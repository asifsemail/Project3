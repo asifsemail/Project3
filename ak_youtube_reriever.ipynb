{
 "cells": [
  {
   "cell_type": "markdown",
   "id": "3da0e4f9-3585-4f16-8d1f-1d835187cbce",
   "metadata": {},
   "source": [
    "## Step 1: Installing Required Libraries"
   ]
  },
  {
   "cell_type": "code",
   "execution_count": 1,
   "id": "8dbc8238-73a4-4897-addf-9eb98d367b68",
   "metadata": {
    "collapsed": true,
    "jupyter": {
     "outputs_hidden": true
    }
   },
   "outputs": [
    {
     "name": "stdout",
     "output_type": "stream",
     "text": [
      "Requirement already satisfied: gradio in /opt/anaconda3/envs/nlp/lib/python3.10/site-packages (5.12.0)\n",
      "Requirement already satisfied: google-api-python-client in /opt/anaconda3/envs/nlp/lib/python3.10/site-packages (2.159.0)\n",
      "Requirement already satisfied: aiofiles<24.0,>=22.0 in /opt/anaconda3/envs/nlp/lib/python3.10/site-packages (from gradio) (23.2.1)\n",
      "Requirement already satisfied: anyio<5.0,>=3.0 in /opt/anaconda3/envs/nlp/lib/python3.10/site-packages (from gradio) (4.8.0)\n",
      "Requirement already satisfied: fastapi<1.0,>=0.115.2 in /opt/anaconda3/envs/nlp/lib/python3.10/site-packages (from gradio) (0.115.6)\n",
      "Requirement already satisfied: ffmpy in /opt/anaconda3/envs/nlp/lib/python3.10/site-packages (from gradio) (0.5.0)\n",
      "Requirement already satisfied: gradio-client==1.5.4 in /opt/anaconda3/envs/nlp/lib/python3.10/site-packages (from gradio) (1.5.4)\n",
      "Requirement already satisfied: httpx>=0.24.1 in /opt/anaconda3/envs/nlp/lib/python3.10/site-packages (from gradio) (0.28.1)\n",
      "Requirement already satisfied: huggingface-hub>=0.25.1 in /opt/anaconda3/envs/nlp/lib/python3.10/site-packages (from gradio) (0.27.1)\n",
      "Requirement already satisfied: jinja2<4.0 in /opt/anaconda3/envs/nlp/lib/python3.10/site-packages (from gradio) (3.1.5)\n",
      "Requirement already satisfied: markupsafe~=2.0 in /opt/anaconda3/envs/nlp/lib/python3.10/site-packages (from gradio) (2.1.5)\n",
      "Requirement already satisfied: numpy<3.0,>=1.0 in /opt/anaconda3/envs/nlp/lib/python3.10/site-packages (from gradio) (1.26.4)\n",
      "Requirement already satisfied: orjson~=3.0 in /opt/anaconda3/envs/nlp/lib/python3.10/site-packages (from gradio) (3.10.14)\n",
      "Requirement already satisfied: packaging in /opt/anaconda3/envs/nlp/lib/python3.10/site-packages (from gradio) (24.2)\n",
      "Requirement already satisfied: pandas<3.0,>=1.0 in /opt/anaconda3/envs/nlp/lib/python3.10/site-packages (from gradio) (2.2.3)\n",
      "Requirement already satisfied: pillow<12.0,>=8.0 in /opt/anaconda3/envs/nlp/lib/python3.10/site-packages (from gradio) (11.1.0)\n",
      "Requirement already satisfied: pydantic>=2.0 in /opt/anaconda3/envs/nlp/lib/python3.10/site-packages (from gradio) (2.10.5)\n",
      "Requirement already satisfied: pydub in /opt/anaconda3/envs/nlp/lib/python3.10/site-packages (from gradio) (0.25.1)\n",
      "Requirement already satisfied: python-multipart>=0.0.18 in /opt/anaconda3/envs/nlp/lib/python3.10/site-packages (from gradio) (0.0.20)\n",
      "Requirement already satisfied: pyyaml<7.0,>=5.0 in /opt/anaconda3/envs/nlp/lib/python3.10/site-packages (from gradio) (6.0.2)\n",
      "Requirement already satisfied: ruff>=0.2.2 in /opt/anaconda3/envs/nlp/lib/python3.10/site-packages (from gradio) (0.9.1)\n",
      "Requirement already satisfied: safehttpx<0.2.0,>=0.1.6 in /opt/anaconda3/envs/nlp/lib/python3.10/site-packages (from gradio) (0.1.6)\n",
      "Requirement already satisfied: semantic-version~=2.0 in /opt/anaconda3/envs/nlp/lib/python3.10/site-packages (from gradio) (2.10.0)\n",
      "Requirement already satisfied: starlette<1.0,>=0.40.0 in /opt/anaconda3/envs/nlp/lib/python3.10/site-packages (from gradio) (0.41.3)\n",
      "Requirement already satisfied: tomlkit<0.14.0,>=0.12.0 in /opt/anaconda3/envs/nlp/lib/python3.10/site-packages (from gradio) (0.13.2)\n",
      "Requirement already satisfied: typer<1.0,>=0.12 in /opt/anaconda3/envs/nlp/lib/python3.10/site-packages (from gradio) (0.15.1)\n",
      "Requirement already satisfied: typing-extensions~=4.0 in /opt/anaconda3/envs/nlp/lib/python3.10/site-packages (from gradio) (4.12.2)\n",
      "Requirement already satisfied: uvicorn>=0.14.0 in /opt/anaconda3/envs/nlp/lib/python3.10/site-packages (from gradio) (0.34.0)\n",
      "Requirement already satisfied: fsspec in /opt/anaconda3/envs/nlp/lib/python3.10/site-packages (from gradio-client==1.5.4->gradio) (2024.12.0)\n",
      "Requirement already satisfied: websockets<15.0,>=10.0 in /opt/anaconda3/envs/nlp/lib/python3.10/site-packages (from gradio-client==1.5.4->gradio) (14.1)\n",
      "Requirement already satisfied: httplib2<1.dev0,>=0.19.0 in /opt/anaconda3/envs/nlp/lib/python3.10/site-packages (from google-api-python-client) (0.22.0)\n",
      "Requirement already satisfied: google-auth!=2.24.0,!=2.25.0,<3.0.0.dev0,>=1.32.0 in /opt/anaconda3/envs/nlp/lib/python3.10/site-packages (from google-api-python-client) (2.37.0)\n",
      "Requirement already satisfied: google-auth-httplib2<1.0.0,>=0.2.0 in /opt/anaconda3/envs/nlp/lib/python3.10/site-packages (from google-api-python-client) (0.2.0)\n",
      "Requirement already satisfied: google-api-core!=2.0.*,!=2.1.*,!=2.2.*,!=2.3.0,<3.0.0.dev0,>=1.31.5 in /opt/anaconda3/envs/nlp/lib/python3.10/site-packages (from google-api-python-client) (2.24.0)\n",
      "Requirement already satisfied: uritemplate<5,>=3.0.1 in /opt/anaconda3/envs/nlp/lib/python3.10/site-packages (from google-api-python-client) (4.1.1)\n",
      "Requirement already satisfied: exceptiongroup>=1.0.2 in /opt/anaconda3/envs/nlp/lib/python3.10/site-packages (from anyio<5.0,>=3.0->gradio) (1.2.2)\n",
      "Requirement already satisfied: idna>=2.8 in /opt/anaconda3/envs/nlp/lib/python3.10/site-packages (from anyio<5.0,>=3.0->gradio) (3.10)\n",
      "Requirement already satisfied: sniffio>=1.1 in /opt/anaconda3/envs/nlp/lib/python3.10/site-packages (from anyio<5.0,>=3.0->gradio) (1.3.1)\n",
      "Requirement already satisfied: googleapis-common-protos<2.0.dev0,>=1.56.2 in /opt/anaconda3/envs/nlp/lib/python3.10/site-packages (from google-api-core!=2.0.*,!=2.1.*,!=2.2.*,!=2.3.0,<3.0.0.dev0,>=1.31.5->google-api-python-client) (1.66.0)\n",
      "Requirement already satisfied: protobuf!=3.20.0,!=3.20.1,!=4.21.0,!=4.21.1,!=4.21.2,!=4.21.3,!=4.21.4,!=4.21.5,<6.0.0.dev0,>=3.19.5 in /opt/anaconda3/envs/nlp/lib/python3.10/site-packages (from google-api-core!=2.0.*,!=2.1.*,!=2.2.*,!=2.3.0,<3.0.0.dev0,>=1.31.5->google-api-python-client) (5.29.3)\n",
      "Requirement already satisfied: proto-plus<2.0.0dev,>=1.22.3 in /opt/anaconda3/envs/nlp/lib/python3.10/site-packages (from google-api-core!=2.0.*,!=2.1.*,!=2.2.*,!=2.3.0,<3.0.0.dev0,>=1.31.5->google-api-python-client) (1.25.0)\n",
      "Requirement already satisfied: requests<3.0.0.dev0,>=2.18.0 in /opt/anaconda3/envs/nlp/lib/python3.10/site-packages (from google-api-core!=2.0.*,!=2.1.*,!=2.2.*,!=2.3.0,<3.0.0.dev0,>=1.31.5->google-api-python-client) (2.32.3)\n",
      "Requirement already satisfied: cachetools<6.0,>=2.0.0 in /opt/anaconda3/envs/nlp/lib/python3.10/site-packages (from google-auth!=2.24.0,!=2.25.0,<3.0.0.dev0,>=1.32.0->google-api-python-client) (5.5.0)\n",
      "Requirement already satisfied: pyasn1-modules>=0.2.1 in /opt/anaconda3/envs/nlp/lib/python3.10/site-packages (from google-auth!=2.24.0,!=2.25.0,<3.0.0.dev0,>=1.32.0->google-api-python-client) (0.4.1)\n",
      "Requirement already satisfied: rsa<5,>=3.1.4 in /opt/anaconda3/envs/nlp/lib/python3.10/site-packages (from google-auth!=2.24.0,!=2.25.0,<3.0.0.dev0,>=1.32.0->google-api-python-client) (4.9)\n",
      "Requirement already satisfied: pyparsing!=3.0.0,!=3.0.1,!=3.0.2,!=3.0.3,<4,>=2.4.2 in /opt/anaconda3/envs/nlp/lib/python3.10/site-packages (from httplib2<1.dev0,>=0.19.0->google-api-python-client) (3.2.1)\n",
      "Requirement already satisfied: certifi in /opt/anaconda3/envs/nlp/lib/python3.10/site-packages (from httpx>=0.24.1->gradio) (2024.12.14)\n",
      "Requirement already satisfied: httpcore==1.* in /opt/anaconda3/envs/nlp/lib/python3.10/site-packages (from httpx>=0.24.1->gradio) (1.0.7)\n",
      "Requirement already satisfied: h11<0.15,>=0.13 in /opt/anaconda3/envs/nlp/lib/python3.10/site-packages (from httpcore==1.*->httpx>=0.24.1->gradio) (0.14.0)\n",
      "Requirement already satisfied: filelock in /opt/anaconda3/envs/nlp/lib/python3.10/site-packages (from huggingface-hub>=0.25.1->gradio) (3.16.1)\n",
      "Requirement already satisfied: tqdm>=4.42.1 in /opt/anaconda3/envs/nlp/lib/python3.10/site-packages (from huggingface-hub>=0.25.1->gradio) (4.66.5)\n",
      "Requirement already satisfied: python-dateutil>=2.8.2 in /opt/anaconda3/envs/nlp/lib/python3.10/site-packages (from pandas<3.0,>=1.0->gradio) (2.9.0.post0)\n",
      "Requirement already satisfied: pytz>=2020.1 in /opt/anaconda3/envs/nlp/lib/python3.10/site-packages (from pandas<3.0,>=1.0->gradio) (2024.1)\n",
      "Requirement already satisfied: tzdata>=2022.7 in /opt/anaconda3/envs/nlp/lib/python3.10/site-packages (from pandas<3.0,>=1.0->gradio) (2023.3)\n",
      "Requirement already satisfied: annotated-types>=0.6.0 in /opt/anaconda3/envs/nlp/lib/python3.10/site-packages (from pydantic>=2.0->gradio) (0.7.0)\n",
      "Requirement already satisfied: pydantic-core==2.27.2 in /opt/anaconda3/envs/nlp/lib/python3.10/site-packages (from pydantic>=2.0->gradio) (2.27.2)\n",
      "Requirement already satisfied: click>=8.0.0 in /opt/anaconda3/envs/nlp/lib/python3.10/site-packages (from typer<1.0,>=0.12->gradio) (8.1.7)\n",
      "Requirement already satisfied: shellingham>=1.3.0 in /opt/anaconda3/envs/nlp/lib/python3.10/site-packages (from typer<1.0,>=0.12->gradio) (1.5.4)\n",
      "Requirement already satisfied: rich>=10.11.0 in /opt/anaconda3/envs/nlp/lib/python3.10/site-packages (from typer<1.0,>=0.12->gradio) (13.9.4)\n",
      "Requirement already satisfied: pyasn1<0.7.0,>=0.4.6 in /opt/anaconda3/envs/nlp/lib/python3.10/site-packages (from pyasn1-modules>=0.2.1->google-auth!=2.24.0,!=2.25.0,<3.0.0.dev0,>=1.32.0->google-api-python-client) (0.6.1)\n",
      "Requirement already satisfied: six>=1.5 in /opt/anaconda3/envs/nlp/lib/python3.10/site-packages (from python-dateutil>=2.8.2->pandas<3.0,>=1.0->gradio) (1.16.0)\n",
      "Requirement already satisfied: charset_normalizer<4,>=2 in /opt/anaconda3/envs/nlp/lib/python3.10/site-packages (from requests<3.0.0.dev0,>=2.18.0->google-api-core!=2.0.*,!=2.1.*,!=2.2.*,!=2.3.0,<3.0.0.dev0,>=1.31.5->google-api-python-client) (3.4.1)\n",
      "Requirement already satisfied: urllib3<3,>=1.21.1 in /opt/anaconda3/envs/nlp/lib/python3.10/site-packages (from requests<3.0.0.dev0,>=2.18.0->google-api-core!=2.0.*,!=2.1.*,!=2.2.*,!=2.3.0,<3.0.0.dev0,>=1.31.5->google-api-python-client) (2.3.0)\n",
      "Requirement already satisfied: markdown-it-py>=2.2.0 in /opt/anaconda3/envs/nlp/lib/python3.10/site-packages (from rich>=10.11.0->typer<1.0,>=0.12->gradio) (3.0.0)\n",
      "Requirement already satisfied: pygments<3.0.0,>=2.13.0 in /opt/anaconda3/envs/nlp/lib/python3.10/site-packages (from rich>=10.11.0->typer<1.0,>=0.12->gradio) (2.19.1)\n",
      "Requirement already satisfied: mdurl~=0.1 in /opt/anaconda3/envs/nlp/lib/python3.10/site-packages (from markdown-it-py>=2.2.0->rich>=10.11.0->typer<1.0,>=0.12->gradio) (0.1.2)\n"
     ]
    }
   ],
   "source": [
    "# Uncomment the following line if you need to install the required libraries\n",
    "!pip install gradio google-api-python-client"
   ]
  },
  {
   "cell_type": "markdown",
   "id": "90b73014-3e4b-4b31-a416-c8fbc20a60ba",
   "metadata": {},
   "source": [
    "## Step 2: Importing Required Libraries"
   ]
  },
  {
   "cell_type": "code",
   "execution_count": null,
   "id": "7b44917f-3e25-43b2-80ed-f2b6e75a5a3a",
   "metadata": {},
   "outputs": [],
   "source": [
    "# Section 1: Importing Libraries\n",
    "# These libraries are required for Gradio UI and YouTube Data API integration\n",
    "import gradio as gr\n",
    "from googleapiclient.discovery import build"
   ]
  },
  {
   "cell_type": "code",
   "execution_count": 11,
   "id": "7d17118e-f897-40d8-be27-0ee5c6127185",
   "metadata": {},
   "outputs": [
    {
     "data": {
      "text/plain": [
       "str"
      ]
     },
     "execution_count": 11,
     "metadata": {},
     "output_type": "execute_result"
    }
   ],
   "source": [
    "# Import dotenv package for setting environment variables \n",
    "from dotenv import load_dotenv, find_dotenv\n",
    "\n",
    "# Import os package\n",
    "import os\n",
    "\n",
    "# Set environment variables from the .env in the local environment\n",
    "load_dotenv(find_dotenv('keys1.env'))\n",
    "\n",
    "# Retrieve API key and store as Python variable\n",
    "api_key = os.getenv(\"YOUTUBE_API_KEY\")\n",
    "\n",
    "type(api_key)"
   ]
  },
  {
   "cell_type": "markdown",
   "id": "1fcb97ef-c4d5-4b9c-bb01-e9068ba5c29f",
   "metadata": {},
   "source": [
    "## Step 3: Fetch YouTube Videos Function"
   ]
  },
  {
   "cell_type": "code",
   "execution_count": 12,
   "id": "45eb3d23-722f-4e0f-8605-60a4968cc91a",
   "metadata": {},
   "outputs": [],
   "source": [
    "# Section 2: Helper Functions\n",
    "# Sub-section 1: Fetch YouTube Videos\n",
    "def fetch_youtube_videos(subject):\n",
    "    \"\"\"\n",
    "    Fetches the top 3 most popular YouTube videos for the given subject.\n",
    "    \n",
    "    Args:\n",
    "        subject (str): The topic to search for.\n",
    "\n",
    "    Returns:\n",
    "        List of dictionaries containing video metadata.\n",
    "    \"\"\"\n",
    "    # YouTube Data API Key\n",
    "    YOUTUBE_API_KEY = api_key  # Replace with your valid API key\n",
    "    \n",
    "    # Initialize the YouTube API client\n",
    "    youtube = build(\"youtube\", \"v3\", developerKey=YOUTUBE_API_KEY)\n",
    "    \n",
    "    try:\n",
    "        # Make the API request to fetch videos\n",
    "        request = youtube.search().list(\n",
    "            q=subject,              # Search query (user input)\n",
    "            part=\"snippet\",         # Fetch video metadata\n",
    "            maxResults=3,           # Limit to 3 results\n",
    "            order=\"viewCount\",      # Sort by view count (popularity)\n",
    "            type=\"video\"            # Only fetch videos\n",
    "        )\n",
    "        response = request.execute()  # Execute the API request\n",
    "        \n",
    "        # Parse and store video metadata\n",
    "        videos = []\n",
    "        for item in response.get(\"items\", []):\n",
    "            video_data = {\n",
    "                \"Title\": item[\"snippet\"][\"title\"],\n",
    "                \"Channel\": item[\"snippet\"][\"channelTitle\"],\n",
    "                \"Published At\": item[\"snippet\"][\"publishedAt\"],\n",
    "                \"Description\": item[\"snippet\"][\"description\"],\n",
    "                \"Video Link\": f\"https://www.youtube.com/watch?v={item['id']['videoId']}\"\n",
    "            }\n",
    "            videos.append(video_data)\n",
    "        \n",
    "        return videos  # Return the video metadata\n",
    "\n",
    "    except Exception as e:\n",
    "        return f\"Error: {e}\"  # Return error message if any"
   ]
  },
  {
   "cell_type": "markdown",
   "id": "b566d0f0-4ee6-43aa-bdfb-8cd4a68c36a5",
   "metadata": {},
   "source": [
    "## Step 4: Gradio Application Function"
   ]
  },
  {
   "cell_type": "code",
   "execution_count": 13,
   "id": "c057cd4e-4f79-4eb7-84a3-ff07cd9bc9be",
   "metadata": {},
   "outputs": [],
   "source": [
    "# Sub-section 2: Gradio App Function\n",
    "def app_function(subject):\n",
    "    \"\"\"\n",
    "    Gradio app function to fetch and display video metadata.\n",
    "\n",
    "    Args:\n",
    "        subject (str): The topic to search for.\n",
    "\n",
    "    Returns:\n",
    "        str: A formatted string containing video metadata.\n",
    "    \"\"\"\n",
    "    # Fetch video metadata using the helper function\n",
    "    videos = fetch_youtube_videos(subject)\n",
    "    \n",
    "    # Check if an error occurred\n",
    "    if isinstance(videos, str):  # If there's an error, return the error message\n",
    "        return videos\n",
    "    \n",
    "    # Format the result as a readable string\n",
    "    result = \"\"\n",
    "    for i, video in enumerate(videos, start=1):\n",
    "        result += f\"### Video {i}\\n\"\n",
    "        result += f\"- **Title**: {video['Title']}\\n\"\n",
    "        result += f\"- **Channel**: {video['Channel']}\\n\"\n",
    "        result += f\"- **Published At**: {video['Published At']}\\n\"\n",
    "        result += f\"- **Description**: {video['Description']}\\n\"\n",
    "        result += f\"- **Video Link**: [Watch Here]({video['Video Link']})\\n\\n\"\n",
    "    \n",
    "    return result  # Return the formatted result"
   ]
  },
  {
   "cell_type": "markdown",
   "id": "606eb74c-425c-4d17-a33d-a5a344ef60e0",
   "metadata": {},
   "source": [
    "## Step 5: Gradio UI Development"
   ]
  },
  {
   "cell_type": "code",
   "execution_count": 14,
   "id": "8347e32e-d1c7-469a-85b2-89552854525b",
   "metadata": {},
   "outputs": [],
   "source": [
    "# Section 3: Gradio UI\n",
    "# Define the Gradio interface\n",
    "with gr.Blocks() as app:\n",
    "    # Header\n",
    "    gr.Markdown(\"# AI-Powered YouTube Content Analyzer\")\n",
    "    gr.Markdown(\"### Enter a subject to find the top 3 most popular YouTube videos.\")\n",
    "    \n",
    "    # Input: Textbox for the subject\n",
    "    user_input = gr.Textbox(label=\"Subject\", placeholder=\"Enter a topic (e.g., Machine Learning)\")\n",
    "    \n",
    "    # Output: Markdown to display the video metadata\n",
    "    output = gr.Markdown(label=\"Video Metadata\")\n",
    "    \n",
    "    # Button to trigger the processing\n",
    "    submit_button = gr.Button(\"Fetch Videos\")\n",
    "    submit_button.click(app_function, inputs=[user_input], outputs=[output])  # Link button to the app function"
   ]
  },
  {
   "cell_type": "markdown",
   "id": "56f8f599-bf11-43d0-a204-b7d2595682ed",
   "metadata": {},
   "source": [
    "## Step 6: Launching the Application"
   ]
  },
  {
   "cell_type": "code",
   "execution_count": 15,
   "id": "7638d4e1-5348-49c3-8172-312659be295a",
   "metadata": {},
   "outputs": [
    {
     "name": "stdout",
     "output_type": "stream",
     "text": [
      "* Running on local URL:  http://127.0.0.1:7863\n",
      "\n",
      "To create a public link, set `share=True` in `launch()`.\n"
     ]
    },
    {
     "data": {
      "text/html": [
       "<div><iframe src=\"http://127.0.0.1:7863/\" width=\"100%\" height=\"500\" allow=\"autoplay; camera; microphone; clipboard-read; clipboard-write;\" frameborder=\"0\" allowfullscreen></iframe></div>"
      ],
      "text/plain": [
       "<IPython.core.display.HTML object>"
      ]
     },
     "metadata": {},
     "output_type": "display_data"
    }
   ],
   "source": [
    "# Section 4: Launch the Gradio Application\n",
    "# Launch the Gradio app\n",
    "if __name__ == \"__main__\":\n",
    "    app.launch()"
   ]
  },
  {
   "cell_type": "code",
   "execution_count": null,
   "id": "f14cccd5-ca0f-4658-b21f-e84804e16e2c",
   "metadata": {},
   "outputs": [],
   "source": []
  }
 ],
 "metadata": {
  "kernelspec": {
   "display_name": "Python 3 (ipykernel)",
   "language": "python",
   "name": "python3"
  },
  "language_info": {
   "codemirror_mode": {
    "name": "ipython",
    "version": 3
   },
   "file_extension": ".py",
   "mimetype": "text/x-python",
   "name": "python",
   "nbconvert_exporter": "python",
   "pygments_lexer": "ipython3",
   "version": "3.10.13"
  }
 },
 "nbformat": 4,
 "nbformat_minor": 5
}
