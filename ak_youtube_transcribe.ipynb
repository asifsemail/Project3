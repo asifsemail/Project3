{
 "cells": [
  {
   "cell_type": "markdown",
   "id": "a788c90e-b41f-48bb-ad3b-b2ecfebff3de",
   "metadata": {},
   "source": [
    "## 1. Installing Required Libraries\n",
    "- Place this in the first cell to ensure all necessary libraries are installed."
   ]
  },
  {
   "cell_type": "code",
   "execution_count": 1,
   "id": "905b7a13-9e60-4183-8250-53e1c96c8066",
   "metadata": {},
   "outputs": [
    {
     "name": "stdout",
     "output_type": "stream",
     "text": [
      "/opt/anaconda3/envs/nlp/lib/python3.10/site-packages/imageio_ffmpeg/binaries/ffmpeg-macos-aarch64-v7.1\n"
     ]
    }
   ],
   "source": [
    "# Install required libraries\n",
    "# Uncomment the line below if libraries are not installed\n",
    "# !pip install yt-dlp openai-whisper gradio \"imageio[ffmpeg]\"\n",
    "\n",
    "import imageio_ffmpeg as ffmpeg\n",
    "print(ffmpeg.get_ffmpeg_exe())"
   ]
  },
  {
   "cell_type": "markdown",
   "id": "b012c8af-dc27-4e47-b983-062f83b46bef",
   "metadata": {},
   "source": [
    "## 2. Import Libraries\n",
    "- This cell ensures all the required imports are available."
   ]
  },
  {
   "cell_type": "code",
   "execution_count": 2,
   "id": "7780ab56-cb30-4a78-8375-778df3f85963",
   "metadata": {},
   "outputs": [],
   "source": [
    "# Import required libraries\n",
    "import yt_dlp\n",
    "import whisper\n",
    "import gradio as gr\n",
    "import os\n",
    "import imageio_ffmpeg as ffmpeg"
   ]
  },
  {
   "cell_type": "markdown",
   "id": "2bd6a49c-1eb9-4ff0-95af-a1b125055d15",
   "metadata": {},
   "source": [
    "## 3. Helper Function: Download YouTube Audio\n",
    "- This cell defines the function to download audio from YouTube using yt-dlp."
   ]
  },
  {
   "cell_type": "code",
   "execution_count": 3,
   "id": "af30cd6b-e9dd-4aac-b9b1-ca72beef1750",
   "metadata": {},
   "outputs": [],
   "source": [
    "# Function to download audio from a YouTube video\n",
    "def download_audio(youtube_url, output_path=\"audio\"):\n",
    "    \"\"\"\n",
    "    Downloads audio from a YouTube video using yt-dlp.\n",
    "\n",
    "    Args:\n",
    "        youtube_url (str): URL of the YouTube video.\n",
    "        output_path (str): Path to save the downloaded audio (without extension).\n",
    "\n",
    "    Returns:\n",
    "        str: Path to the downloaded audio file.\n",
    "    \"\"\"\n",
    "    ffmpeg_path = ffmpeg.get_ffmpeg_exe()\n",
    "    print(\"Using FFmpeg Path:\", ffmpeg_path)  # Debug information\n",
    "    \n",
    "    ydl_opts = {\n",
    "        'format': 'bestaudio/best',\n",
    "        'postprocessors': [{\n",
    "            'key': 'FFmpegExtractAudio',\n",
    "            'preferredcodec': 'mp3',\n",
    "            'preferredquality': '192',\n",
    "        }],\n",
    "        'outtmpl': output_path,  # Do not add .mp3 here\n",
    "        'quiet': True,\n",
    "        'ffmpeg_location': ffmpeg_path,  # Explicitly use FFmpeg path\n",
    "    }\n",
    "    try:\n",
    "        with yt_dlp.YoutubeDL(ydl_opts) as ydl:\n",
    "            ydl.download([youtube_url])\n",
    "        return f\"{output_path}.mp3\"  # Append .mp3 for the returned path\n",
    "    except Exception as e:\n",
    "        print(f\"Error during audio download: {e}\")\n",
    "        raise"
   ]
  },
  {
   "cell_type": "markdown",
   "id": "466b917a-331e-4a9d-a00f-03cc1c9851fb",
   "metadata": {},
   "source": [
    "## 4. Helper Function: Transcribe Audio\n",
    "- This cell defines the transcription functionality using OpenAI’s Whisper."
   ]
  },
  {
   "cell_type": "code",
   "execution_count": 4,
   "id": "4974e2b5-96f3-4f18-a743-242787ab960b",
   "metadata": {},
   "outputs": [],
   "source": [
    "# Function to transcribe the audio\n",
    "def transcribe_audio(file_path, model_type=\"base\"):\n",
    "    \"\"\"\n",
    "    Transcribes the audio file using OpenAI Whisper.\n",
    "\n",
    "    Args:\n",
    "        file_path (str): Path to the audio file.\n",
    "        model_type (str): Whisper model to use (e.g., 'tiny', 'base', 'small').\n",
    "\n",
    "    Returns:\n",
    "        str: The transcribed text.\n",
    "    \"\"\"\n",
    "    print(f\"Loading Whisper model: {model_type}\")\n",
    "    model = whisper.load_model(model_type)\n",
    "    print(\"Transcribing audio...\")\n",
    "    result = model.transcribe(file_path)\n",
    "    print(\"Transcription completed.\")\n",
    "    return result['text']"
   ]
  },
  {
   "cell_type": "markdown",
   "id": "7e981d87-b67b-4638-bb7f-ea66b9f26014",
   "metadata": {},
   "source": [
    "## 5. Main Function: Orchestrating the Workflow\n",
    "- This cell combines the download and transcription steps."
   ]
  },
  {
   "cell_type": "code",
   "execution_count": 5,
   "id": "c1380343-e4eb-44ba-a9ac-35c218a05303",
   "metadata": {},
   "outputs": [],
   "source": [
    "# Function to download and transcribe YouTube video\n",
    "def transcribe_youtube_video(youtube_url):\n",
    "    \"\"\"\n",
    "    Downloads and transcribes a YouTube video's audio.\n",
    "\n",
    "    Args:\n",
    "        youtube_url (str): URL of the YouTube video.\n",
    "\n",
    "    Returns:\n",
    "        str: The transcription of the video's audio or an error message.\n",
    "    \"\"\"\n",
    "    try:\n",
    "        # Step 1: Download audio\n",
    "        audio_file = download_audio(youtube_url)\n",
    "        \n",
    "        # Step 2: Transcribe audio\n",
    "        transcript = transcribe_audio(audio_file)\n",
    "        \n",
    "        # Optional: Remove the downloaded audio file\n",
    "        if os.path.exists(audio_file):\n",
    "            os.remove(audio_file)\n",
    "        \n",
    "        return transcript\n",
    "    except Exception as e:\n",
    "        return f\"Error: {str(e)}\""
   ]
  },
  {
   "cell_type": "markdown",
   "id": "15734575-8858-416c-b106-bd615974ea20",
   "metadata": {},
   "source": [
    "## 6. Building the Gradio App\n",
    "- This cell defines the Gradio interface."
   ]
  },
  {
   "cell_type": "code",
   "execution_count": 6,
   "id": "480cb280-9006-4593-b25b-07495f2d8e0e",
   "metadata": {},
   "outputs": [],
   "source": [
    "# Define Gradio interface\n",
    "with gr.Blocks() as app:\n",
    "    gr.Markdown(\"# YouTube Video Transcription App\")\n",
    "    gr.Markdown(\"Provide a YouTube video URL to transcribe its audio to text.\")\n",
    "    \n",
    "    youtube_url = gr.Textbox(label=\"YouTube Video URL\", placeholder=\"Enter the YouTube video URL here...\")\n",
    "    output_text = gr.Textbox(label=\"Transcript\", placeholder=\"The transcript will appear here...\", lines=10)\n",
    "    \n",
    "    submit_button = gr.Button(\"Transcribe\")\n",
    "    submit_button.click(transcribe_youtube_video, inputs=[youtube_url], outputs=[output_text])"
   ]
  },
  {
   "cell_type": "markdown",
   "id": "527f3a88-e807-4ef5-baca-0af4fa2bee16",
   "metadata": {},
   "source": [
    "## 7. Launching the Gradio App\n",
    "- This cell launches the app for users to interact with."
   ]
  },
  {
   "cell_type": "code",
   "execution_count": 7,
   "id": "2f64183e-7f1e-4c83-bf59-a037a7384425",
   "metadata": {},
   "outputs": [
    {
     "name": "stdout",
     "output_type": "stream",
     "text": [
      "* Running on local URL:  http://127.0.0.1:7860\n",
      "* Running on public URL: https://b41f1ff8866192ef54.gradio.live\n",
      "\n",
      "This share link expires in 72 hours. For free permanent hosting and GPU upgrades, run `gradio deploy` from the terminal in the working directory to deploy to Hugging Face Spaces (https://huggingface.co/spaces)\n"
     ]
    },
    {
     "data": {
      "text/html": [
       "<div><iframe src=\"https://b41f1ff8866192ef54.gradio.live\" width=\"100%\" height=\"500\" allow=\"autoplay; camera; microphone; clipboard-read; clipboard-write;\" frameborder=\"0\" allowfullscreen></iframe></div>"
      ],
      "text/plain": [
       "<IPython.core.display.HTML object>"
      ]
     },
     "metadata": {},
     "output_type": "display_data"
    }
   ],
   "source": [
    "# Launch the Gradio app\n",
    "if __name__ == \"__main__\":\n",
    "    app.launch(share=True)"
   ]
  },
  {
   "cell_type": "code",
   "execution_count": null,
   "id": "68d14f44-a7b5-4a97-aa4a-1b7c28875c19",
   "metadata": {},
   "outputs": [],
   "source": []
  }
 ],
 "metadata": {
  "kernelspec": {
   "display_name": "Python 3 (ipykernel)",
   "language": "python",
   "name": "python3"
  },
  "language_info": {
   "codemirror_mode": {
    "name": "ipython",
    "version": 3
   },
   "file_extension": ".py",
   "mimetype": "text/x-python",
   "name": "python",
   "nbconvert_exporter": "python",
   "pygments_lexer": "ipython3",
   "version": "3.10.13"
  }
 },
 "nbformat": 4,
 "nbformat_minor": 5
}
