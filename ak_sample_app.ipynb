{
 "cells": [
  {
   "cell_type": "code",
   "execution_count": 1,
   "id": "834e7372-5c5f-4973-aa50-68b2adcdd303",
   "metadata": {},
   "outputs": [
    {
     "name": "stdout",
     "output_type": "stream",
     "text": [
      "* Running on local URL:  http://127.0.0.1:7868\n",
      "\n",
      "To create a public link, set `share=True` in `launch()`.\n"
     ]
    },
    {
     "data": {
      "text/html": [
       "<div><iframe src=\"http://127.0.0.1:7868/\" width=\"100%\" height=\"500\" allow=\"autoplay; camera; microphone; clipboard-read; clipboard-write;\" frameborder=\"0\" allowfullscreen></iframe></div>"
      ],
      "text/plain": [
       "<IPython.core.display.HTML object>"
      ]
     },
     "metadata": {},
     "output_type": "display_data"
    }
   ],
   "source": [
    "import gradio as gr\n",
    "\n",
    "def generate_content(topic, user_name, technical_background):\n",
    "    # Generate outputs based on the inputs\n",
    "    summary = f\"Hello {user_name}, here's a brief summary on {topic}. This will be tailored to {technical_background} learners.\"\n",
    "    key_points = [\n",
    "        \"Point 1: Core concept related to the topic.\",\n",
    "        \"Point 2: Why this topic matters.\",\n",
    "        \"Point 3: Key challenges or trends.\"\n",
    "    ]\n",
    "    content_idea = f\"Create a tutorial on '{topic}' aimed at {technical_background} learners, highlighting practical examples.\"\n",
    "    tags = [topic.lower(), \"tutorial\", technical_background.lower(), \"learning\"]\n",
    "\n",
    "    return summary, key_points, content_idea, tags\n",
    "\n",
    "# Gradio interface\n",
    "def interface():\n",
    "    inputs = [\n",
    "        gr.Textbox(label=\"Topic\"),\n",
    "        gr.Textbox(label=\"User Name\"),\n",
    "        gr.Radio([\"Beginner\", \"Intermediate\", \"Advanced\"], label=\"User's Technical Background\")\n",
    "    ]\n",
    "    \n",
    "    outputs = [\n",
    "        gr.Textbox(label=\"Summary\"),\n",
    "        gr.JSON(label=\"Key Points\"),\n",
    "        gr.Textbox(label=\"Content Idea\"),\n",
    "        gr.JSON(label=\"Tags\")\n",
    "    ]\n",
    "\n",
    "    app = gr.Interface(\n",
    "        fn=generate_content,\n",
    "        inputs=inputs,\n",
    "        outputs=outputs,\n",
    "        title=\"Content Idea Generator\",\n",
    "        description=\"Provide a topic, your name, and your technical background to get a summary, key points, a content idea, and tags.\"\n",
    "    )\n",
    "    return app\n",
    "\n",
    "if __name__ == \"__main__\":\n",
    "    interface().launch()"
   ]
  },
  {
   "cell_type": "code",
   "execution_count": null,
   "id": "1b8f68c7-0c19-40f8-8702-d7466f8a591a",
   "metadata": {},
   "outputs": [],
   "source": []
  }
 ],
 "metadata": {
  "kernelspec": {
   "display_name": "Python 3 (ipykernel)",
   "language": "python",
   "name": "python3"
  },
  "language_info": {
   "codemirror_mode": {
    "name": "ipython",
    "version": 3
   },
   "file_extension": ".py",
   "mimetype": "text/x-python",
   "name": "python",
   "nbconvert_exporter": "python",
   "pygments_lexer": "ipython3",
   "version": "3.10.13"
  }
 },
 "nbformat": 4,
 "nbformat_minor": 5
}
